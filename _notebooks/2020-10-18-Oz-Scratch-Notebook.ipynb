{
 "cells": [
  {
   "cell_type": "code",
   "execution_count": 1,
   "metadata": {},
   "outputs": [
    {
     "data": {
      "text/plain": [
       "nil"
      ]
     },
     "execution_count": 1,
     "metadata": {},
     "output_type": "execute_result"
    }
   ],
   "source": [
    "(require '[clojupyter.misc.helper :as helper])\n",
    "(helper/add-dependencies '[metasoarous/oz \"1.5.0\"])\n",
    "(require '[oz.notebook.clojupyter :as oz])"
   ]
  },
  {
   "cell_type": "code",
   "execution_count": 2,
   "metadata": {},
   "outputs": [
    {
     "data": {
      "text/html": [
       "\n",
       "<div>\n",
       "  <div id='uuid-76a24cad-e39d-437e-8635-01d8bf35a7e4'></div>\n",
       "  <script>\n",
       "  requirejs.config({\n",
       "    baseUrl: 'https://cdn.jsdelivr.net/npm/',\n",
       "    paths: {\n",
       "      'vega-embed':  'vega-embed@3?noext',\n",
       "      'vega-lib': 'vega-lib?noext',\n",
       "      'vega-lite': 'vega-lite@2?noext',\n",
       "      'vega': 'vega@3?noext'\n",
       "    }\n",
       "  });\n",
       "  require(['vega-embed'], function(vegaEmbed) {\n",
       "    let spec = {\"data\":{\"values\":[{\"time\":0,\"item\":\"munchkin\",\"quantity\":4.0},{\"time\":1,\"item\":\"munchkin\",\"quantity\":7.278031643091578},{\"time\":2,\"item\":\"munchkin\",\"quantity\":16.18958683997628},{\"time\":3,\"item\":\"munchkin\",\"quantity\":14.71068609258575},{\"time\":4,\"item\":\"munchkin\",\"quantity\":20.000000000000004},{\"time\":5,\"item\":\"munchkin\",\"quantity\":19.127049995800743},{\"time\":6,\"item\":\"munchkin\",\"quantity\":23.13058987556147},{\"time\":7,\"item\":\"munchkin\",\"quantity\":30.03516289842348},{\"time\":8,\"item\":\"munchkin\",\"quantity\":33.85761802547598},{\"time\":9,\"item\":\"munchkin\",\"quantity\":35.610188015018984},{\"time\":10,\"item\":\"munchkin\",\"quantity\":39.30212829607493},{\"time\":11,\"item\":\"munchkin\",\"quantity\":39.940667420160906},{\"time\":12,\"item\":\"munchkin\",\"quantity\":39.53159496449108},{\"time\":13,\"item\":\"munchkin\",\"quantity\":44.07964401264505},{\"time\":14,\"item\":\"munchkin\",\"quantity\":47.58875032686557},{\"time\":15,\"item\":\"munchkin\",\"quantity\":48.06223395648531},{\"time\":16,\"item\":\"munchkin\",\"quantity\":53.50293012833275},{\"time\":17,\"item\":\"munchkin\",\"quantity\":52.91328587177879},{\"time\":18,\"item\":\"munchkin\",\"quantity\":57.29543283815009},{\"time\":19,\"item\":\"munchkin\",\"quantity\":59.65124317675735},{\"time\":0,\"item\":\"witch\",\"quantity\":1.0},{\"time\":1,\"item\":\"witch\",\"quantity\":5.623898318388478},{\"time\":2,\"item\":\"witch\",\"quantity\":9.309573444801934},{\"time\":3,\"item\":\"witch\",\"quantity\":8.727161387290321},{\"time\":4,\"item\":\"witch\",\"quantity\":14.98560543306118},{\"time\":5,\"item\":\"witch\",\"quantity\":16.132639022018836},{\"time\":6,\"item\":\"witch\",\"quantity\":16.194870523363548},{\"time\":7,\"item\":\"witch\",\"quantity\":21.189151347155786},{\"time\":8,\"item\":\"witch\",\"quantity\":19.127049995800743},{\"time\":9,\"item\":\"witch\",\"quantity\":24.016965485301043},{\"time\":10,\"item\":\"witch\",\"quantity\":25.86525259636632},{\"time\":11,\"item\":\"witch\",\"quantity\":26.676874454922782},{\"time\":12,\"item\":\"witch\",\"quantity\":26.45580618665162},{\"time\":13,\"item\":\"witch\",\"quantity\":28.205297528345778},{\"time\":14,\"item\":\"witch\",\"quantity\":30.928050775697603},{\"time\":15,\"item\":\"witch\",\"quantity\":33.62634547570625},{\"time\":16,\"item\":\"witch\",\"quantity\":33.30212829607493},{\"time\":17,\"item\":\"witch\",\"quantity\":36.95707936800063},{\"time\":18,\"item\":\"witch\",\"quantity\":37.59266228400805},{\"time\":19,\"item\":\"witch\",\"quantity\":40.210162462449645},{\"time\":0,\"item\":\"dog\",\"quantity\":1.0},{\"time\":1,\"item\":\"dog\",\"quantity\":2.4082246852806923},{\"time\":2,\"item\":\"dog\",\"quantity\":6.192962712629476},{\"time\":3,\"item\":\"dog\",\"quantity\":6.799546134795289},{\"time\":4,\"item\":\"dog\",\"quantity\":9.30037210271847},{\"time\":5,\"item\":\"dog\",\"quantity\":9.727161387290321},{\"time\":6,\"item\":\"dog\",\"quantity\":10.097596309015797},{\"time\":7,\"item\":\"dog\",\"quantity\":11.42287530066645},{\"time\":8,\"item\":\"dog\",\"quantity\":12.71068609258575},{\"time\":9,\"item\":\"dog\",\"quantity\":15.966610165238238},{\"time\":10,\"item\":\"dog\",\"quantity\":16.194870523363548},{\"time\":11,\"item\":\"dog\",\"quantity\":17.398765361701578},{\"time\":12,\"item\":\"dog\",\"quantity\":17.580936309501134},{\"time\":13,\"item\":\"dog\",\"quantity\":18.74354294621998},{\"time\":14,\"item\":\"dog\",\"quantity\":20.888381054913122},{\"time\":15,\"item\":\"dog\",\"quantity\":22.016965485301043},{\"time\":16,\"item\":\"dog\",\"quantity\":22.13058987556147},{\"time\":17,\"item\":\"dog\",\"quantity\":23.230370739754015},{\"time\":18,\"item\":\"dog\",\"quantity\":24.317280693371046},{\"time\":19,\"item\":\"dog\",\"quantity\":25.392173948075055},{\"time\":0,\"item\":\"lion\",\"quantity\":3.0},{\"time\":1,\"item\":\"lion\",\"quantity\":6.031433133020796},{\"time\":2,\"item\":\"lion\",\"quantity\":7.278031643091578},{\"time\":3,\"item\":\"lion\",\"quantity\":7.30037210271847},{\"time\":4,\"item\":\"lion\",\"quantity\":12.18958683997628},{\"time\":5,\"item\":\"lion\",\"quantity\":11.98560543306118},{\"time\":6,\"item\":\"lion\",\"quantity\":12.71068609258575},{\"time\":7,\"item\":\"lion\",\"quantity\":17.378925219250924},{\"time\":8,\"item\":\"lion\",\"quantity\":19.000000000000004},{\"time\":9,\"item\":\"lion\",\"quantity\":18.580936309501134},{\"time\":10,\"item\":\"lion\",\"quantity\":19.127049995800743},{\"time\":11,\"item\":\"lion\",\"quantity\":21.642492771517183},{\"time\":12,\"item\":\"lion\",\"quantity\":24.13058987556147},{\"time\":13,\"item\":\"lion\",\"quantity\":24.59405975059458},{\"time\":14,\"item\":\"lion\",\"quantity\":26.03516289842348},{\"time\":15,\"item\":\"lion\",\"quantity\":27.45580618665162},{\"time\":16,\"item\":\"lion\",\"quantity\":28.85761802547598},{\"time\":17,\"item\":\"lion\",\"quantity\":29.242003864203042},{\"time\":18,\"item\":\"lion\",\"quantity\":31.610188015018984},{\"time\":19,\"item\":\"lion\",\"quantity\":32.96324574534057},{\"time\":0,\"item\":\"tiger\",\"quantity\":4.0},{\"time\":1,\"item\":\"tiger\",\"quantity\":7.623898318388478},{\"time\":2,\"item\":\"tiger\",\"quantity\":8.309573444801934},{\"time\":3,\"item\":\"tiger\",\"quantity\":11.727161387290321},{\"time\":4,\"item\":\"tiger\",\"quantity\":14.98560543306118},{\"time\":5,\"item\":\"tiger\",\"quantity\":14.132639022018838},{\"time\":6,\"item\":\"tiger\",\"quantity\":17.194870523363548},{\"time\":7,\"item\":\"tiger\",\"quantity\":20.189151347155786},{\"time\":8,\"item\":\"tiger\",\"quantity\":22.127049995800743},{\"time\":9,\"item\":\"tiger\",\"quantity\":21.016965485301043},{\"time\":10,\"item\":\"tiger\",\"quantity\":22.86525259636632},{\"time\":11,\"item\":\"tiger\",\"quantity\":24.676874454922782},{\"time\":12,\"item\":\"tiger\",\"quantity\":28.45580618665162},{\"time\":13,\"item\":\"tiger\",\"quantity\":31.205297528345778},{\"time\":14,\"item\":\"tiger\",\"quantity\":29.928050775697603},{\"time\":15,\"item\":\"tiger\",\"quantity\":32.62634547570625},{\"time\":16,\"item\":\"tiger\",\"quantity\":36.30212829607493},{\"time\":17,\"item\":\"tiger\",\"quantity\":35.95707936800063},{\"time\":18,\"item\":\"tiger\",\"quantity\":36.59266228400805},{\"time\":19,\"item\":\"tiger\",\"quantity\":42.210162462449645},{\"time\":0,\"item\":\"bear\",\"quantity\":3.0},{\"time\":1,\"item\":\"bear\",\"quantity\":3.0314331330207964},{\"time\":2,\"item\":\"bear\",\"quantity\":8.278031643091577},{\"time\":3,\"item\":\"bear\",\"quantity\":9.30037210271847},{\"time\":4,\"item\":\"bear\",\"quantity\":9.18958683997628},{\"time\":5,\"item\":\"bear\",\"quantity\":10.98560543306118},{\"time\":6,\"item\":\"bear\",\"quantity\":15.71068609258575},{\"time\":7,\"item\":\"bear\",\"quantity\":17.378925219250924},{\"time\":8,\"item\":\"bear\",\"quantity\":16.000000000000004},{\"time\":9,\"item\":\"bear\",\"quantity\":20.580936309501134},{\"time\":10,\"item\":\"bear\",\"quantity\":20.127049995800743},{\"time\":11,\"item\":\"bear\",\"quantity\":20.642492771517183},{\"time\":12,\"item\":\"bear\",\"quantity\":23.13058987556147},{\"time\":13,\"item\":\"bear\",\"quantity\":23.59405975059458},{\"time\":14,\"item\":\"bear\",\"quantity\":27.03516289842348},{\"time\":15,\"item\":\"bear\",\"quantity\":28.45580618665162},{\"time\":16,\"item\":\"bear\",\"quantity\":27.85761802547598},{\"time\":17,\"item\":\"bear\",\"quantity\":32.24200386420304},{\"time\":18,\"item\":\"bear\",\"quantity\":32.610188015018984},{\"time\":19,\"item\":\"bear\",\"quantity\":31.96324574534057}]},\"mark\":\"bar\",\"encoding\":{\"x\":{\"field\":\"time\"},\"y\":{\"aggregate\":\"sum\",\"field\":\"quantity\",\"type\":\"quantitative\"},\"color\":{\"field\":\"item\"}}};\n",
       "    vegaEmbed('#uuid-76a24cad-e39d-437e-8635-01d8bf35a7e4', spec, {defaultStyle:true}).catch(console.warn);\n",
       "    }, function(err) {\n",
       "    console.log('Failed to load');\n",
       "  });\n",
       "  </script>\n",
       "</div>\n",
       "  "
      ]
     },
     "execution_count": 2,
     "metadata": {},
     "output_type": "execute_result"
    }
   ],
   "source": [
    "(defn play-data [& names]\n",
    "  (for [n names\n",
    "        i (range 20)]\n",
    "    {:time i :item n :quantity (+ (Math/pow (* i (count n)) 0.8) (rand-int (count n)))}))\n",
    "    \n",
    "(def stacked-bar\n",
    "  {:data {:values (play-data \"munchkin\" \"witch\" \"dog\" \"lion\" \"tiger\" \"bear\")}\n",
    "   :mark \"bar\"\n",
    "   :encoding {:x {:field \"time\"}\n",
    "              :y {:aggregate \"sum\"\n",
    "                  :field \"quantity\"\n",
    "                  :type \"quantitative\"}\n",
    "              :color {:field \"item\"}}})\n",
    "(oz/view! stacked-bar)"
   ]
  },
  {
   "cell_type": "code",
   "execution_count": 3,
   "metadata": {},
   "outputs": [
    {
     "data": {
      "text/html": [
       "\n",
       "<div>\n",
       "  <div id='uuid-1e2392e7-3b6d-4681-b2c9-c23e772ab3b8'></div>\n",
       "  <script>\n",
       "  requirejs.config({\n",
       "    baseUrl: 'https://cdn.jsdelivr.net/npm/',\n",
       "    paths: {\n",
       "      'vega-embed':  'vega-embed@3?noext',\n",
       "      'vega-lib': 'vega-lib?noext',\n",
       "      'vega-lite': 'vega-lite@2?noext',\n",
       "      'vega': 'vega@3?noext'\n",
       "    }\n",
       "  });\n",
       "  require(['vega-embed'], function(vegaEmbed) {\n",
       "    let spec = {\"data\":{\"url\":\"https:\\/\\/gist.githubusercontent.com\\/metasoarous\\/4e6f781d353322a44b9cd3e4597c532c\\/raw\\/cd633d9bb8e0bed4a5b8e66a32b9569ca2147989\\/cars.json\"},\"mark\":\"point\",\"encoding\":{\"x\":{\"field\":\"Horsepower\",\"type\":\"quantitative\"},\"y\":{\"field\":\"Miles_per_Gallon\",\"type\":\"quantitative\"},\"color\":{\"field\":\"Origin\",\"type\":\"nominal\"}}};\n",
       "    vegaEmbed('#uuid-1e2392e7-3b6d-4681-b2c9-c23e772ab3b8', spec, {defaultStyle:true}).catch(console.warn);\n",
       "    }, function(err) {\n",
       "    console.log('Failed to load');\n",
       "  });\n",
       "  </script>\n",
       "</div>\n",
       "  "
      ]
     },
     "execution_count": 3,
     "metadata": {},
     "output_type": "execute_result"
    }
   ],
   "source": [
    "(def spec\n",
    "  {:data {:url \"https://gist.githubusercontent.com/metasoarous/4e6f781d353322a44b9cd3e4597c532c/raw/cd633d9bb8e0bed4a5b8e66a32b9569ca2147989/cars.json\"}\n",
    "   :mark \"point\"\n",
    "   :encoding {\n",
    "     :x {:field \"Horsepower\", :type \"quantitative\"}\n",
    "     :y {:field \"Miles_per_Gallon\", :type \"quantitative\"}\n",
    "     :color {:field \"Origin\", :type \"nominal\"}}})\n",
    "(oz/view! spec)"
   ]
  },
  {
   "cell_type": "code",
   "execution_count": 5,
   "metadata": {
    "scrolled": false
   },
   "outputs": [
    {
     "data": {
      "text/html": [
       "<div><h1>A little hiccup example</h1><p>Try drinking a glass of water with your head upside down</p><div style=\"{:display &quot;flex&quot;, :flex-direction &quot;row&quot;}\">\n",
       "<div>\n",
       "  <div id='uuid-bcdda492-4112-4ca9-91ee-a95e8f0d846d'></div>\n",
       "  <script>\n",
       "  requirejs.config({\n",
       "    baseUrl: 'https://cdn.jsdelivr.net/npm/',\n",
       "    paths: {\n",
       "      'vega-embed':  'vega-embed@3?noext',\n",
       "      'vega-lib': 'vega-lib?noext',\n",
       "      'vega-lite': 'vega-lite@2?noext',\n",
       "      'vega': 'vega@3?noext'\n",
       "    }\n",
       "  });\n",
       "  require(['vega-embed'], function(vegaEmbed) {\n",
       "    let spec = {\"data\":{\"url\":\"https:\\/\\/gist.githubusercontent.com\\/metasoarous\\/4e6f781d353322a44b9cd3e4597c532c\\/raw\\/cd633d9bb8e0bed4a5b8e66a32b9569ca2147989\\/cars.json\"},\"mark\":\"point\",\"encoding\":{\"x\":{\"field\":\"Horsepower\",\"type\":\"quantitative\"},\"y\":{\"field\":\"Miles_per_Gallon\",\"type\":\"quantitative\"},\"color\":{\"field\":\"Origin\",\"type\":\"nominal\"}}};\n",
       "    vegaEmbed('#uuid-bcdda492-4112-4ca9-91ee-a95e8f0d846d', spec, {defaultStyle:true}).catch(console.warn);\n",
       "    }, function(err) {\n",
       "    console.log('Failed to load');\n",
       "  });\n",
       "  </script>\n",
       "</div>\n",
       "  \n",
       "<div>\n",
       "  <div id='uuid-9b6da4d0-6352-48a7-b36d-a2aa32892151'></div>\n",
       "  <script>\n",
       "  requirejs.config({\n",
       "    baseUrl: 'https://cdn.jsdelivr.net/npm/',\n",
       "    paths: {\n",
       "      'vega-embed':  'vega-embed@3?noext',\n",
       "      'vega-lib': 'vega-lib?noext',\n",
       "      'vega-lite': 'vega-lite@2?noext',\n",
       "      'vega': 'vega@3?noext'\n",
       "    }\n",
       "  });\n",
       "  require(['vega-embed'], function(vegaEmbed) {\n",
       "    let spec = {\"data\":{\"values\":[{\"time\":0,\"item\":\"munchkin\",\"quantity\":4.0},{\"time\":1,\"item\":\"munchkin\",\"quantity\":7.278031643091578},{\"time\":2,\"item\":\"munchkin\",\"quantity\":16.18958683997628},{\"time\":3,\"item\":\"munchkin\",\"quantity\":14.71068609258575},{\"time\":4,\"item\":\"munchkin\",\"quantity\":20.000000000000004},{\"time\":5,\"item\":\"munchkin\",\"quantity\":19.127049995800743},{\"time\":6,\"item\":\"munchkin\",\"quantity\":23.13058987556147},{\"time\":7,\"item\":\"munchkin\",\"quantity\":30.03516289842348},{\"time\":8,\"item\":\"munchkin\",\"quantity\":33.85761802547598},{\"time\":9,\"item\":\"munchkin\",\"quantity\":35.610188015018984},{\"time\":10,\"item\":\"munchkin\",\"quantity\":39.30212829607493},{\"time\":11,\"item\":\"munchkin\",\"quantity\":39.940667420160906},{\"time\":12,\"item\":\"munchkin\",\"quantity\":39.53159496449108},{\"time\":13,\"item\":\"munchkin\",\"quantity\":44.07964401264505},{\"time\":14,\"item\":\"munchkin\",\"quantity\":47.58875032686557},{\"time\":15,\"item\":\"munchkin\",\"quantity\":48.06223395648531},{\"time\":16,\"item\":\"munchkin\",\"quantity\":53.50293012833275},{\"time\":17,\"item\":\"munchkin\",\"quantity\":52.91328587177879},{\"time\":18,\"item\":\"munchkin\",\"quantity\":57.29543283815009},{\"time\":19,\"item\":\"munchkin\",\"quantity\":59.65124317675735},{\"time\":0,\"item\":\"witch\",\"quantity\":1.0},{\"time\":1,\"item\":\"witch\",\"quantity\":5.623898318388478},{\"time\":2,\"item\":\"witch\",\"quantity\":9.309573444801934},{\"time\":3,\"item\":\"witch\",\"quantity\":8.727161387290321},{\"time\":4,\"item\":\"witch\",\"quantity\":14.98560543306118},{\"time\":5,\"item\":\"witch\",\"quantity\":16.132639022018836},{\"time\":6,\"item\":\"witch\",\"quantity\":16.194870523363548},{\"time\":7,\"item\":\"witch\",\"quantity\":21.189151347155786},{\"time\":8,\"item\":\"witch\",\"quantity\":19.127049995800743},{\"time\":9,\"item\":\"witch\",\"quantity\":24.016965485301043},{\"time\":10,\"item\":\"witch\",\"quantity\":25.86525259636632},{\"time\":11,\"item\":\"witch\",\"quantity\":26.676874454922782},{\"time\":12,\"item\":\"witch\",\"quantity\":26.45580618665162},{\"time\":13,\"item\":\"witch\",\"quantity\":28.205297528345778},{\"time\":14,\"item\":\"witch\",\"quantity\":30.928050775697603},{\"time\":15,\"item\":\"witch\",\"quantity\":33.62634547570625},{\"time\":16,\"item\":\"witch\",\"quantity\":33.30212829607493},{\"time\":17,\"item\":\"witch\",\"quantity\":36.95707936800063},{\"time\":18,\"item\":\"witch\",\"quantity\":37.59266228400805},{\"time\":19,\"item\":\"witch\",\"quantity\":40.210162462449645},{\"time\":0,\"item\":\"dog\",\"quantity\":1.0},{\"time\":1,\"item\":\"dog\",\"quantity\":2.4082246852806923},{\"time\":2,\"item\":\"dog\",\"quantity\":6.192962712629476},{\"time\":3,\"item\":\"dog\",\"quantity\":6.799546134795289},{\"time\":4,\"item\":\"dog\",\"quantity\":9.30037210271847},{\"time\":5,\"item\":\"dog\",\"quantity\":9.727161387290321},{\"time\":6,\"item\":\"dog\",\"quantity\":10.097596309015797},{\"time\":7,\"item\":\"dog\",\"quantity\":11.42287530066645},{\"time\":8,\"item\":\"dog\",\"quantity\":12.71068609258575},{\"time\":9,\"item\":\"dog\",\"quantity\":15.966610165238238},{\"time\":10,\"item\":\"dog\",\"quantity\":16.194870523363548},{\"time\":11,\"item\":\"dog\",\"quantity\":17.398765361701578},{\"time\":12,\"item\":\"dog\",\"quantity\":17.580936309501134},{\"time\":13,\"item\":\"dog\",\"quantity\":18.74354294621998},{\"time\":14,\"item\":\"dog\",\"quantity\":20.888381054913122},{\"time\":15,\"item\":\"dog\",\"quantity\":22.016965485301043},{\"time\":16,\"item\":\"dog\",\"quantity\":22.13058987556147},{\"time\":17,\"item\":\"dog\",\"quantity\":23.230370739754015},{\"time\":18,\"item\":\"dog\",\"quantity\":24.317280693371046},{\"time\":19,\"item\":\"dog\",\"quantity\":25.392173948075055},{\"time\":0,\"item\":\"lion\",\"quantity\":3.0},{\"time\":1,\"item\":\"lion\",\"quantity\":6.031433133020796},{\"time\":2,\"item\":\"lion\",\"quantity\":7.278031643091578},{\"time\":3,\"item\":\"lion\",\"quantity\":7.30037210271847},{\"time\":4,\"item\":\"lion\",\"quantity\":12.18958683997628},{\"time\":5,\"item\":\"lion\",\"quantity\":11.98560543306118},{\"time\":6,\"item\":\"lion\",\"quantity\":12.71068609258575},{\"time\":7,\"item\":\"lion\",\"quantity\":17.378925219250924},{\"time\":8,\"item\":\"lion\",\"quantity\":19.000000000000004},{\"time\":9,\"item\":\"lion\",\"quantity\":18.580936309501134},{\"time\":10,\"item\":\"lion\",\"quantity\":19.127049995800743},{\"time\":11,\"item\":\"lion\",\"quantity\":21.642492771517183},{\"time\":12,\"item\":\"lion\",\"quantity\":24.13058987556147},{\"time\":13,\"item\":\"lion\",\"quantity\":24.59405975059458},{\"time\":14,\"item\":\"lion\",\"quantity\":26.03516289842348},{\"time\":15,\"item\":\"lion\",\"quantity\":27.45580618665162},{\"time\":16,\"item\":\"lion\",\"quantity\":28.85761802547598},{\"time\":17,\"item\":\"lion\",\"quantity\":29.242003864203042},{\"time\":18,\"item\":\"lion\",\"quantity\":31.610188015018984},{\"time\":19,\"item\":\"lion\",\"quantity\":32.96324574534057},{\"time\":0,\"item\":\"tiger\",\"quantity\":4.0},{\"time\":1,\"item\":\"tiger\",\"quantity\":7.623898318388478},{\"time\":2,\"item\":\"tiger\",\"quantity\":8.309573444801934},{\"time\":3,\"item\":\"tiger\",\"quantity\":11.727161387290321},{\"time\":4,\"item\":\"tiger\",\"quantity\":14.98560543306118},{\"time\":5,\"item\":\"tiger\",\"quantity\":14.132639022018838},{\"time\":6,\"item\":\"tiger\",\"quantity\":17.194870523363548},{\"time\":7,\"item\":\"tiger\",\"quantity\":20.189151347155786},{\"time\":8,\"item\":\"tiger\",\"quantity\":22.127049995800743},{\"time\":9,\"item\":\"tiger\",\"quantity\":21.016965485301043},{\"time\":10,\"item\":\"tiger\",\"quantity\":22.86525259636632},{\"time\":11,\"item\":\"tiger\",\"quantity\":24.676874454922782},{\"time\":12,\"item\":\"tiger\",\"quantity\":28.45580618665162},{\"time\":13,\"item\":\"tiger\",\"quantity\":31.205297528345778},{\"time\":14,\"item\":\"tiger\",\"quantity\":29.928050775697603},{\"time\":15,\"item\":\"tiger\",\"quantity\":32.62634547570625},{\"time\":16,\"item\":\"tiger\",\"quantity\":36.30212829607493},{\"time\":17,\"item\":\"tiger\",\"quantity\":35.95707936800063},{\"time\":18,\"item\":\"tiger\",\"quantity\":36.59266228400805},{\"time\":19,\"item\":\"tiger\",\"quantity\":42.210162462449645},{\"time\":0,\"item\":\"bear\",\"quantity\":3.0},{\"time\":1,\"item\":\"bear\",\"quantity\":3.0314331330207964},{\"time\":2,\"item\":\"bear\",\"quantity\":8.278031643091577},{\"time\":3,\"item\":\"bear\",\"quantity\":9.30037210271847},{\"time\":4,\"item\":\"bear\",\"quantity\":9.18958683997628},{\"time\":5,\"item\":\"bear\",\"quantity\":10.98560543306118},{\"time\":6,\"item\":\"bear\",\"quantity\":15.71068609258575},{\"time\":7,\"item\":\"bear\",\"quantity\":17.378925219250924},{\"time\":8,\"item\":\"bear\",\"quantity\":16.000000000000004},{\"time\":9,\"item\":\"bear\",\"quantity\":20.580936309501134},{\"time\":10,\"item\":\"bear\",\"quantity\":20.127049995800743},{\"time\":11,\"item\":\"bear\",\"quantity\":20.642492771517183},{\"time\":12,\"item\":\"bear\",\"quantity\":23.13058987556147},{\"time\":13,\"item\":\"bear\",\"quantity\":23.59405975059458},{\"time\":14,\"item\":\"bear\",\"quantity\":27.03516289842348},{\"time\":15,\"item\":\"bear\",\"quantity\":28.45580618665162},{\"time\":16,\"item\":\"bear\",\"quantity\":27.85761802547598},{\"time\":17,\"item\":\"bear\",\"quantity\":32.24200386420304},{\"time\":18,\"item\":\"bear\",\"quantity\":32.610188015018984},{\"time\":19,\"item\":\"bear\",\"quantity\":31.96324574534057}]},\"mark\":\"bar\",\"encoding\":{\"x\":{\"field\":\"time\"},\"y\":{\"aggregate\":\"sum\",\"field\":\"quantity\",\"type\":\"quantitative\"},\"color\":{\"field\":\"item\"}}};\n",
       "    vegaEmbed('#uuid-9b6da4d0-6352-48a7-b36d-a2aa32892151', spec, {defaultStyle:true}).catch(console.warn);\n",
       "    }, function(err) {\n",
       "    console.log('Failed to load');\n",
       "  });\n",
       "  </script>\n",
       "</div>\n",
       "  </div></div>"
      ]
     },
     "execution_count": 5,
     "metadata": {},
     "output_type": "execute_result"
    }
   ],
   "source": [
    "(oz/view!\n",
    "  [:div\n",
    "   [:h1 \"A little hiccup example\"]\n",
    "   [:p \"Try drinking a glass of water with your head upside down\"]\n",
    "   [:div {:style {:display \"flex\" :flex-direction \"row\"}}\n",
    "    [:vega-lite spec]\n",
    "    [:vega-lite stacked-bar]]])"
   ]
  },
  {
   "cell_type": "code",
   "execution_count": null,
   "metadata": {},
   "outputs": [],
   "source": []
  },
  {
   "cell_type": "code",
   "execution_count": null,
   "metadata": {},
   "outputs": [],
   "source": []
  },
  {
   "cell_type": "code",
   "execution_count": null,
   "metadata": {},
   "outputs": [],
   "source": []
  },
  {
   "cell_type": "code",
   "execution_count": null,
   "metadata": {},
   "outputs": [],
   "source": []
  },
  {
   "cell_type": "code",
   "execution_count": null,
   "metadata": {},
   "outputs": [],
   "source": []
  },
  {
   "cell_type": "code",
   "execution_count": null,
   "metadata": {},
   "outputs": [],
   "source": []
  },
  {
   "cell_type": "code",
   "execution_count": null,
   "metadata": {},
   "outputs": [],
   "source": []
  },
  {
   "cell_type": "code",
   "execution_count": null,
   "metadata": {},
   "outputs": [],
   "source": []
  }
 ],
 "metadata": {
  "kernelspec": {
   "display_name": "Clojure (clojupyter=0.3.2=1)",
   "language": "clojure",
   "name": "conda-clojupyter"
  },
  "language_info": {
   "file_extension": ".clj",
   "mimetype": "text/x-clojure",
   "name": "clojure",
   "version": "1.10.1"
  }
 },
 "nbformat": 4,
 "nbformat_minor": 4
}
