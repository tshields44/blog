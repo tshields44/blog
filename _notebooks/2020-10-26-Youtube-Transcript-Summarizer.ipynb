{
 "cells": [
  {
   "cell_type": "markdown",
   "metadata": {},
   "source": [
    "# \"Youtube Transcript Summarization using HuggingFace Transformers\"\n",
    "> \"Use youtube_transcript_api to fetch transcripts of Youtube video and then user Bart transormer model to summarize the transcript.\"\n",
    "\n",
    "- toc:true- branch: master- badges: true- comments: true\n",
    "- author: Tracy Shields\n",
    "- categories: [transformers, python, nlp, youtube,]\n"
   ]
  },
  {
   "cell_type": "code",
   "execution_count": 1,
   "metadata": {
    "colab": {
     "base_uri": "https://localhost:8080/",
     "height": 374
    },
    "id": "OWlTL1zdIelJ",
    "outputId": "cfd28e5b-6e4d-4087-a6dd-b8b769e42ebb"
   },
   "outputs": [
    {
     "name": "stdout",
     "output_type": "stream",
     "text": [
      "Requirement already satisfied: transformers in /usr/local/lib/python3.6/dist-packages (3.4.0)\n",
      "Requirement already satisfied: tokenizers==0.9.2 in /usr/local/lib/python3.6/dist-packages (from transformers) (0.9.2)\n",
      "Requirement already satisfied: requests in /usr/local/lib/python3.6/dist-packages (from transformers) (2.23.0)\n",
      "Requirement already satisfied: tqdm>=4.27 in /usr/local/lib/python3.6/dist-packages (from transformers) (4.41.1)\n",
      "Requirement already satisfied: packaging in /usr/local/lib/python3.6/dist-packages (from transformers) (20.4)\n",
      "Requirement already satisfied: dataclasses; python_version < \"3.7\" in /usr/local/lib/python3.6/dist-packages (from transformers) (0.7)\n",
      "Requirement already satisfied: regex!=2019.12.17 in /usr/local/lib/python3.6/dist-packages (from transformers) (2019.12.20)\n",
      "Requirement already satisfied: protobuf in /usr/local/lib/python3.6/dist-packages (from transformers) (3.12.4)\n",
      "Requirement already satisfied: sentencepiece!=0.1.92 in /usr/local/lib/python3.6/dist-packages (from transformers) (0.1.94)\n",
      "Requirement already satisfied: numpy in /usr/local/lib/python3.6/dist-packages (from transformers) (1.18.5)\n",
      "Requirement already satisfied: sacremoses in /usr/local/lib/python3.6/dist-packages (from transformers) (0.0.43)\n",
      "Requirement already satisfied: filelock in /usr/local/lib/python3.6/dist-packages (from transformers) (3.0.12)\n",
      "Requirement already satisfied: certifi>=2017.4.17 in /usr/local/lib/python3.6/dist-packages (from requests->transformers) (2020.6.20)\n",
      "Requirement already satisfied: chardet<4,>=3.0.2 in /usr/local/lib/python3.6/dist-packages (from requests->transformers) (3.0.4)\n",
      "Requirement already satisfied: urllib3!=1.25.0,!=1.25.1,<1.26,>=1.21.1 in /usr/local/lib/python3.6/dist-packages (from requests->transformers) (1.24.3)\n",
      "Requirement already satisfied: idna<3,>=2.5 in /usr/local/lib/python3.6/dist-packages (from requests->transformers) (2.10)\n",
      "Requirement already satisfied: pyparsing>=2.0.2 in /usr/local/lib/python3.6/dist-packages (from packaging->transformers) (2.4.7)\n",
      "Requirement already satisfied: six in /usr/local/lib/python3.6/dist-packages (from packaging->transformers) (1.15.0)\n",
      "Requirement already satisfied: setuptools in /usr/local/lib/python3.6/dist-packages (from protobuf->transformers) (50.3.0)\n",
      "Requirement already satisfied: joblib in /usr/local/lib/python3.6/dist-packages (from sacremoses->transformers) (0.16.0)\n",
      "Requirement already satisfied: click in /usr/local/lib/python3.6/dist-packages (from sacremoses->transformers) (7.1.2)\n"
     ]
    }
   ],
   "source": [
    "#Hide\n",
    "!pip install transformers"
   ]
  },
  {
   "cell_type": "code",
   "execution_count": 2,
   "metadata": {
    "colab": {
     "base_uri": "https://localhost:8080/",
     "height": 119
    },
    "id": "ptOlDyahI0U_",
    "outputId": "8c12b825-a0dd-493d-b48e-3620dd68f150"
   },
   "outputs": [
    {
     "name": "stdout",
     "output_type": "stream",
     "text": [
      "Requirement already satisfied: youtube_transcript_api in /usr/local/lib/python3.6/dist-packages (0.3.1)\n",
      "Requirement already satisfied: requests in /usr/local/lib/python3.6/dist-packages (from youtube_transcript_api) (2.23.0)\n",
      "Requirement already satisfied: certifi>=2017.4.17 in /usr/local/lib/python3.6/dist-packages (from requests->youtube_transcript_api) (2020.6.20)\n",
      "Requirement already satisfied: idna<3,>=2.5 in /usr/local/lib/python3.6/dist-packages (from requests->youtube_transcript_api) (2.10)\n",
      "Requirement already satisfied: urllib3!=1.25.0,!=1.25.1,<1.26,>=1.21.1 in /usr/local/lib/python3.6/dist-packages (from requests->youtube_transcript_api) (1.24.3)\n",
      "Requirement already satisfied: chardet<4,>=3.0.2 in /usr/local/lib/python3.6/dist-packages (from requests->youtube_transcript_api) (3.0.4)\n"
     ]
    }
   ],
   "source": [
    "#Hide\n",
    "!pip install youtube_transcript_api"
   ]
  },
  {
   "cell_type": "code",
   "execution_count": 3,
   "metadata": {
    "id": "bAdUOeC8afPl"
   },
   "outputs": [],
   "source": [
    "from youtube_transcript_api import YouTubeTranscriptApi\n",
    "from transformers import BartTokenizer, BartForConditionalGeneration, BartConfig\n",
    "import urllib.request\n",
    "import json\n",
    "import urllib\n",
    "from pprint import pprint"
   ]
  },
  {
   "cell_type": "code",
   "execution_count": 4,
   "metadata": {
    "id": "YVV2noSVHo-k"
   },
   "outputs": [],
   "source": [
    "def transcribe_video_from_url(url):\n",
    "  # Get transcript if transcript available\n",
    "  video_id = url.split(\"watch?v=\")\n",
    "  video_id = video_id[1]\n",
    "  transcript_dict = YouTubeTranscriptApi.get_transcript(video_id)\n",
    "  transcript = \"\"\n",
    "  for i in transcript_dict:\n",
    "      transcript += ' ' + i['text']\n",
    "\n",
    "  # Get video title\n",
    "  params = {\"format\": \"json\", \"url\": \"https://www.youtube.com/watch?v=%s\" % video_id}\n",
    "  url = \"https://www.youtube.com/oembed\"\n",
    "  query_string = urllib.parse.urlencode(params)\n",
    "  url = url + \"?\" + query_string\n",
    "\n",
    "  with urllib.request.urlopen(url) as response:\n",
    "      response_text = response.read()\n",
    "      data = json.loads(response_text.decode())\n",
    "      video_title = data['title']\n",
    "  return transcript, video_title\n",
    "\n"
   ]
  },
  {
   "cell_type": "code",
   "execution_count": 5,
   "metadata": {
    "id": "YBeDTezgIvS2"
   },
   "outputs": [],
   "source": [
    "# Download models from transformers module\n",
    "model = BartForConditionalGeneration.from_pretrained('facebook/bart-large-cnn')\n",
    "tokenizer = BartTokenizer.from_pretrained('facebook/bart-large-cnn')"
   ]
  },
  {
   "cell_type": "code",
   "execution_count": 6,
   "metadata": {
    "id": "c5wFJuP2k_On"
   },
   "outputs": [],
   "source": [
    "def summarize_transcript(transcript):\n",
    "  inputs = tokenizer.batch_encode_plus([transcript], max_length=1024, return_tensors='pt', truncation=True)\n",
    "  summary_ids = model.generate(inputs['input_ids'])\n",
    "  summary = [tokenizer.decode(ids, skip_special_tokens=True, clean_up_tokenization_spaces=False) for ids in summary_ids]\n",
    "  return summary"
   ]
  },
  {
   "cell_type": "code",
   "execution_count": 7,
   "metadata": {
    "id": "IuAk6OcuIPG8"
   },
   "outputs": [],
   "source": [
    "example_url = \"https://www.youtube.com/watch?v=igUEGiQgZhA\""
   ]
  },
  {
   "cell_type": "markdown",
   "metadata": {},
   "source": [
    "> youtube: https://www.youtube.com/watch?v=igUEGiQgZhA"
   ]
  },
  {
   "cell_type": "code",
   "execution_count": 8,
   "metadata": {
    "colab": {
     "base_uri": "https://localhost:8080/",
     "height": 51
    },
    "id": "l-CQomltQC-1",
    "outputId": "0b173ae0-de33-411b-c983-d076146b5b40"
   },
   "outputs": [
    {
     "data": {
      "text/plain": [
       "(17125,\n",
       " 'Kwik Brain Episode 16: My Morning Routine - How to Jumpstart Your Brain & Day')"
      ]
     },
     "execution_count": 8,
     "metadata": {
      "tags": []
     },
     "output_type": "execute_result"
    }
   ],
   "source": [
    "example_transcript, video_title = transcribe_video_from_url(example_url)\n",
    "len(example_transcript), video_title"
   ]
  },
  {
   "cell_type": "code",
   "execution_count": 9,
   "metadata": {
    "colab": {
     "base_uri": "https://localhost:8080/",
     "height": 85
    },
    "id": "67fdsib5Xe5q",
    "outputId": "71e5c22b-b8fd-4d52-d654-e81ee279c476"
   },
   "outputs": [
    {
     "name": "stdout",
     "output_type": "stream",
     "text": [
      "['Jim quick shows you how to jump-start your brain and your day for greater '\n",
      " 'productivity and peace of mind. The first thing he does when he wakes up is '\n",
      " 'to recall his dreams. After that he makes his bed and takes his supplements. '\n",
      " 'He also gives you some tips on how to get fast and restful sleep.']\n"
     ]
    }
   ],
   "source": [
    "example_summary = summarize_transcript(example_transcript)\n",
    "pprint(example_summary)"
   ]
  },
  {
   "cell_type": "code",
   "execution_count": 9,
   "metadata": {
    "id": "70iLoE4ViGAr"
   },
   "outputs": [],
   "source": []
  }
 ],
 "metadata": {
  "accelerator": "GPU",
  "colab": {
   "collapsed_sections": [],
   "name": "Youtube-Transcript-Summarizer.ipynb",
   "provenance": []
  },
  "kernelspec": {
   "display_name": "Python 3",
   "language": "python",
   "name": "python3"
  },
  "language_info": {
   "codemirror_mode": {
    "name": "ipython",
    "version": 3
   },
   "file_extension": ".py",
   "mimetype": "text/x-python",
   "name": "python",
   "nbconvert_exporter": "python",
   "pygments_lexer": "ipython3",
   "version": "3.7.7"
  }
 },
 "nbformat": 4,
 "nbformat_minor": 1
}
